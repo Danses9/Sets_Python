{
  "nbformat": 4,
  "nbformat_minor": 0,
  "metadata": {
    "colab": {
      "provenance": [],
      "authorship_tag": "ABX9TyPGzoqQVQ39ERISE8ZA8UGc"
    },
    "kernelspec": {
      "name": "python3",
      "display_name": "Python 3"
    },
    "language_info": {
      "name": "python"
    }
  },
  "cells": [
    {
      "cell_type": "markdown",
      "source": [
        "# Trabalhando com Sets no Python\n",
        "É uma função que pode ser usada em coleções de dados ***não ordenados*** e não permite duplicatas, além de ser estrutura de dados `built-in`do Python"
      ],
      "metadata": {
        "id": "-X9h5o9AmzIP"
      }
    },
    {
      "cell_type": "markdown",
      "source": [
        "# Criação dos sets"
      ],
      "metadata": {
        "id": "vCzlFMQvnWhM"
      }
    },
    {
      "cell_type": "markdown",
      "source": [
        "# Utilizando chaves { }:"
      ],
      "metadata": {
        "id": "DIhXrPiSnkm9"
      }
    },
    {
      "cell_type": "code",
      "source": [
        "# Criando lista\n",
        "auto = {'Jetta Variant', 'Passat', 'Crossfox', 'Dodge Journey', 'Parati', 'Peugeot 208'}\n",
        "\n",
        "# Visualizando resultado\n",
        "print(auto)"
      ],
      "metadata": {
        "colab": {
          "base_uri": "https://localhost:8080/"
        },
        "id": "taY3P0V2nrJL",
        "outputId": "fe56e3dd-fedc-49c8-92ff-0613a1aa7db2"
      },
      "execution_count": 1,
      "outputs": [
        {
          "output_type": "stream",
          "name": "stdout",
          "text": [
            "{'Crossfox', 'Jetta Variant', 'Dodge Journey', 'Passat', 'Parati', 'Peugeot 208'}\n"
          ]
        }
      ]
    },
    {
      "cell_type": "code",
      "source": [
        "# Sets com elementos diferentes\n",
        "elementos_dif = {2017, \"Onix\", 35154.57, True}\n",
        "\n",
        "# Visualizando resultado\n",
        "print(elementos_dif)"
      ],
      "metadata": {
        "colab": {
          "base_uri": "https://localhost:8080/"
        },
        "id": "Bn9F7bGroRNb",
        "outputId": "c5b7f80e-eabc-4ce8-e96f-6ea7a8b8ec69"
      },
      "execution_count": 2,
      "outputs": [
        {
          "output_type": "stream",
          "name": "stdout",
          "text": [
            "{'Onix', 35154.57, 2017, True}\n"
          ]
        }
      ]
    },
    {
      "cell_type": "code",
      "source": [
        "for i in auto:\n",
        "  print(i)"
      ],
      "metadata": {
        "colab": {
          "base_uri": "https://localhost:8080/"
        },
        "id": "0rJrdnqeo5xf",
        "outputId": "2f45bc39-bcb5-48af-a4ec-77a9cb1e46f0"
      },
      "execution_count": 3,
      "outputs": [
        {
          "output_type": "stream",
          "name": "stdout",
          "text": [
            "Crossfox\n",
            "Jetta Variant\n",
            "Dodge Journey\n",
            "Passat\n",
            "Parati\n",
            "Peugeot 208\n"
          ]
        }
      ]
    },
    {
      "cell_type": "markdown",
      "source": [
        "# Utilizando listas e a função `set()`"
      ],
      "metadata": {
        "id": "FMo2oPt8pGX1"
      }
    },
    {
      "cell_type": "code",
      "source": [
        "# Criando uma lista\n",
        "cursos = ['Data Science', 'Programação', 'Cabeleileira', 'Gestão de Projetos', 'Marketing', 'Economia']\n",
        "\n",
        "# Visualizando lista\n",
        "print(cursos)"
      ],
      "metadata": {
        "colab": {
          "base_uri": "https://localhost:8080/"
        },
        "id": "XA8Uyq7ipUqZ",
        "outputId": "fd4e766f-2fd6-405d-f1f5-d8093de5b790"
      },
      "execution_count": 5,
      "outputs": [
        {
          "output_type": "stream",
          "name": "stdout",
          "text": [
            "['Data Science', 'Programação', 'Cabeleileira', 'Gestão de Projetos', 'Marketing', 'Economia']\n"
          ]
        }
      ]
    },
    {
      "cell_type": "code",
      "source": [
        "# Convertendo a lista para set\n",
        "curso_set = set(cursos)\n",
        "\n",
        "# Visualizando resultado\n",
        "print(curso_set)"
      ],
      "metadata": {
        "colab": {
          "base_uri": "https://localhost:8080/"
        },
        "id": "wQCQ1TwIqE8X",
        "outputId": "60760b7d-d5df-461a-cfd1-7ed31b3eea51"
      },
      "execution_count": 6,
      "outputs": [
        {
          "output_type": "stream",
          "name": "stdout",
          "text": [
            "{'Marketing', 'Cabeleileira', 'Gestão de Projetos', 'Data Science', 'Programação', 'Economia'}\n"
          ]
        }
      ]
    },
    {
      "cell_type": "markdown",
      "source": [
        "# Trabalhando com elementos repetidos"
      ],
      "metadata": {
        "id": "-jdAynrcqcBo"
      }
    },
    {
      "cell_type": "code",
      "source": [
        "# Lista de carros\n",
        "auto = {'Jetta Variant', 'Passat', 'Crossfox', 'Dodge Journey', 'Parati', 'Peugeot 208', 'Passat'}\n",
        "\n",
        "# Convertendo para set\n",
        "novo_auto = set(auto)"
      ],
      "metadata": {
        "id": "LEkJSd1bqgLJ"
      },
      "execution_count": 20,
      "outputs": []
    },
    {
      "cell_type": "markdown",
      "source": [
        "# `len()`"
      ],
      "metadata": {
        "id": "yXNRSG1hqucD"
      }
    },
    {
      "cell_type": "code",
      "source": [
        "# Usando a função len() para verificar a quantidade de elementos\n",
        "print(len(auto))"
      ],
      "metadata": {
        "colab": {
          "base_uri": "https://localhost:8080/"
        },
        "id": "51xMoy7Uqzn3",
        "outputId": "ef388890-27b5-4a9c-dd3e-313490652eb7"
      },
      "execution_count": 21,
      "outputs": [
        {
          "output_type": "stream",
          "name": "stdout",
          "text": [
            "6\n"
          ]
        }
      ]
    },
    {
      "cell_type": "code",
      "source": [
        "print(novo_auto)"
      ],
      "metadata": {
        "colab": {
          "base_uri": "https://localhost:8080/"
        },
        "id": "lD04v2EqrAQd",
        "outputId": "6e6ce90b-ffce-402d-c2dd-10ff3b8e54b1"
      },
      "execution_count": 22,
      "outputs": [
        {
          "output_type": "stream",
          "name": "stdout",
          "text": [
            "{'Crossfox', 'Jetta Variant', 'Dodge Journey', 'Passat', 'Parati', 'Peugeot 208'}\n"
          ]
        }
      ]
    },
    {
      "cell_type": "code",
      "source": [
        "len(novo_auto)"
      ],
      "metadata": {
        "colab": {
          "base_uri": "https://localhost:8080/"
        },
        "id": "DIZ-IWmerDi1",
        "outputId": "178dcf94-9d3a-4cb5-876b-51c3b6769fae"
      },
      "execution_count": 23,
      "outputs": [
        {
          "output_type": "execute_result",
          "data": {
            "text/plain": [
              "6"
            ]
          },
          "metadata": {},
          "execution_count": 23
        }
      ]
    },
    {
      "cell_type": "markdown",
      "source": [
        "# Operações com Sets\n",
        "\n",
        "Para este exercicio é preciso criar conjuntos com os acessórios de alguns modelos de carros, são eles: **Passat, Crossfox** e **Jetta Variant**"
      ],
      "metadata": {
        "id": "Cu2E6Uidr4Dm"
      }
    },
    {
      "cell_type": "code",
      "source": [
        "  # Set de acessórios do Passat\n",
        "  acessorios_passat = {'Rodas de liga', 'Travas eletricas', 'Piloto automatico', 'Central de multimídia'}\n",
        "\n",
        "  # Visualizando resultado\n",
        "  print(acessorios_passat)"
      ],
      "metadata": {
        "colab": {
          "base_uri": "https://localhost:8080/"
        },
        "id": "s5FysgJPsPxw",
        "outputId": "7ef7aa66-8172-4916-9971-57bb4bdbf26f"
      },
      "execution_count": 30,
      "outputs": [
        {
          "output_type": "stream",
          "name": "stdout",
          "text": [
            "{'Travas eletricas', 'Piloto automatico', 'Rodas de liga', 'Central de multimídia'}\n"
          ]
        }
      ]
    },
    {
      "cell_type": "code",
      "source": [
        "# Set de acessórios Crossfox\n",
        "acessorios_fox = {'Piloto automatico', 'Teto panorâmico', '4 X 4', 'Central de multimídia'}\n",
        "\n",
        "# Visualizando resultado\n",
        "print(acessorios_fox)"
      ],
      "metadata": {
        "colab": {
          "base_uri": "https://localhost:8080/"
        },
        "id": "gUDcVo4Xst8W",
        "outputId": "84d54b1e-957e-4d52-9367-e51d92e829cf"
      },
      "execution_count": 31,
      "outputs": [
        {
          "output_type": "stream",
          "name": "stdout",
          "text": [
            "{'4 X 4', 'Piloto automatico', 'Teto panorâmico', 'Central de multimídia'}\n"
          ]
        }
      ]
    },
    {
      "cell_type": "code",
      "source": [
        "# Set de acessórios Jetta\n",
        "acessorios_jetta = {'Controle de Estabilidade', 'Câmbio automatico', 'Travas eletricas', 'Rodas de liga'}\n",
        "\n",
        "# Visualizando resultado\n",
        "print(acessorios_jetta)"
      ],
      "metadata": {
        "colab": {
          "base_uri": "https://localhost:8080/"
        },
        "id": "QsJ_bYMstRLi",
        "outputId": "5e3a75e6-0f91-4830-dedc-100b55218367"
      },
      "execution_count": 35,
      "outputs": [
        {
          "output_type": "stream",
          "name": "stdout",
          "text": [
            "{'Câmbio automatico', 'Travas eletricas', 'Controle de Estabilidade', 'Rodas de liga'}\n"
          ]
        }
      ]
    },
    {
      "cell_type": "markdown",
      "source": [
        "## Disjução\n",
        "\n",
        "Essa função serve para vermos se há alguma **correlação** entre os dados (algo em comum)"
      ],
      "metadata": {
        "id": "5Mmky6JAtpf3"
      }
    },
    {
      "cell_type": "code",
      "source": [
        "set.isdisjoint(acessorios_passat, acessorios_fox)"
      ],
      "metadata": {
        "colab": {
          "base_uri": "https://localhost:8080/"
        },
        "id": "iuOMNiWDuCIJ",
        "outputId": "1de2238f-dee2-4110-ba67-41e5edc247d2"
      },
      "execution_count": 28,
      "outputs": [
        {
          "output_type": "execute_result",
          "data": {
            "text/plain": [
              "False"
            ]
          },
          "metadata": {},
          "execution_count": 28
        }
      ]
    },
    {
      "cell_type": "markdown",
      "source": [
        "# Interseção\n",
        "\n",
        "Essa função verifica quais elementos se tem em comum"
      ],
      "metadata": {
        "id": "8fzx5SxOunS9"
      }
    },
    {
      "cell_type": "code",
      "source": [
        "acessorios_passat & acessorios_fox"
      ],
      "metadata": {
        "colab": {
          "base_uri": "https://localhost:8080/"
        },
        "id": "zs1MFze_u2yl",
        "outputId": "c9887523-ce28-420f-9952-e1361823e09b"
      },
      "execution_count": 33,
      "outputs": [
        {
          "output_type": "execute_result",
          "data": {
            "text/plain": [
              "{'Central de multimídia', 'Piloto automatico'}"
            ]
          },
          "metadata": {},
          "execution_count": 33
        }
      ]
    },
    {
      "cell_type": "code",
      "source": [
        "acessorios_passat & acessorios_jetta"
      ],
      "metadata": {
        "colab": {
          "base_uri": "https://localhost:8080/"
        },
        "id": "WH1ae-18vQu_",
        "outputId": "1c9820b8-df89-43de-db67-8900b77dbfb2"
      },
      "execution_count": 36,
      "outputs": [
        {
          "output_type": "execute_result",
          "data": {
            "text/plain": [
              "{'Rodas de liga', 'Travas eletricas'}"
            ]
          },
          "metadata": {},
          "execution_count": 36
        }
      ]
    },
    {
      "cell_type": "code",
      "source": [
        "# Função que se pode verificar mais de dois elementos para análise\n",
        "set.intersection(acessorios_passat, acessorios_fox, acessorios_jetta)"
      ],
      "metadata": {
        "colab": {
          "base_uri": "https://localhost:8080/"
        },
        "id": "jDFhiRmpvcRq",
        "outputId": "6f6c934a-b492-4748-e7f0-d06eaff8a75e"
      },
      "execution_count": 37,
      "outputs": [
        {
          "output_type": "execute_result",
          "data": {
            "text/plain": [
              "set()"
            ]
          },
          "metadata": {},
          "execution_count": 37
        }
      ]
    },
    {
      "cell_type": "markdown",
      "source": [
        "Essa função o resultado sairá vazio pois eles não tem nenhum elemento em comum"
      ],
      "metadata": {
        "id": "TyNPHjDRvsE7"
      }
    },
    {
      "cell_type": "markdown",
      "source": [
        "# União\n",
        "\n",
        "A união dos conjuntos"
      ],
      "metadata": {
        "id": "jMNDox29v55Q"
      }
    },
    {
      "cell_type": "code",
      "source": [
        "acessorios_passat | acessorios_fox"
      ],
      "metadata": {
        "colab": {
          "base_uri": "https://localhost:8080/"
        },
        "id": "q70_fRkNv-Un",
        "outputId": "e37c4384-3b95-4105-8247-1a4824be741a"
      },
      "execution_count": 38,
      "outputs": [
        {
          "output_type": "execute_result",
          "data": {
            "text/plain": [
              "{'4 X 4',\n",
              " 'Central de multimídia',\n",
              " 'Piloto automatico',\n",
              " 'Rodas de liga',\n",
              " 'Teto panorâmico',\n",
              " 'Travas eletricas'}"
            ]
          },
          "metadata": {},
          "execution_count": 38
        }
      ]
    },
    {
      "cell_type": "code",
      "source": [
        "# Unindo todos os sets e adicionando um acessório final\n",
        "set.union(acessorios_passat, acessorios_fox, acessorios_jetta, {'Teto solar'})"
      ],
      "metadata": {
        "colab": {
          "base_uri": "https://localhost:8080/"
        },
        "id": "LGhgTp4ZwP2V",
        "outputId": "5021bba1-9046-4bf9-8459-f522cc757d8b"
      },
      "execution_count": 39,
      "outputs": [
        {
          "output_type": "execute_result",
          "data": {
            "text/plain": [
              "{'4 X 4',\n",
              " 'Central de multimídia',\n",
              " 'Controle de Estabilidade',\n",
              " 'Câmbio automatico',\n",
              " 'Piloto automatico',\n",
              " 'Rodas de liga',\n",
              " 'Teto panorâmico',\n",
              " 'Teto solar',\n",
              " 'Travas eletricas'}"
            ]
          },
          "metadata": {},
          "execution_count": 39
        }
      ]
    },
    {
      "cell_type": "markdown",
      "source": [
        "# Performance"
      ],
      "metadata": {
        "id": "dvh4W7rKwlSS"
      }
    },
    {
      "cell_type": "code",
      "source": [
        "auto"
      ],
      "metadata": {
        "colab": {
          "base_uri": "https://localhost:8080/"
        },
        "id": "BlHwX6lYwtbb",
        "outputId": "535ede1a-cec0-4132-d495-0ce12835a49e"
      },
      "execution_count": 40,
      "outputs": [
        {
          "output_type": "execute_result",
          "data": {
            "text/plain": [
              "{'Crossfox',\n",
              " 'Dodge Journey',\n",
              " 'Jetta Variant',\n",
              " 'Parati',\n",
              " 'Passat',\n",
              " 'Peugeot 208'}"
            ]
          },
          "metadata": {},
          "execution_count": 40
        }
      ]
    },
    {
      "cell_type": "code",
      "source": [
        "# Avaliando a estrutura dos dados atavés de in, retornando um valor booleano\n",
        "'Crossfox' in auto"
      ],
      "metadata": {
        "colab": {
          "base_uri": "https://localhost:8080/"
        },
        "id": "ypZ7cuz5wxAF",
        "outputId": "6d5755e0-550d-4f07-8855-79fd54d26b1b"
      },
      "execution_count": 41,
      "outputs": [
        {
          "output_type": "execute_result",
          "data": {
            "text/plain": [
              "True"
            ]
          },
          "metadata": {},
          "execution_count": 41
        }
      ]
    },
    {
      "cell_type": "markdown",
      "source": [
        "# Performance com vários elementos"
      ],
      "metadata": {
        "id": "906FH_pyxDlh"
      }
    },
    {
      "cell_type": "code",
      "source": [
        "elementos_set = set(range(10000))\n",
        "elementos_list = list(range(10000))\n",
        "elementos_tuple = tuple(range(10000))"
      ],
      "metadata": {
        "id": "iZkNoGkoxI0N"
      },
      "execution_count": 45,
      "outputs": []
    },
    {
      "cell_type": "code",
      "source": [
        "# Criando uma função de teste\n",
        "def verificar_elemento_in(elemento_iteravel):\n",
        "  for i in range(10000):\n",
        "    if i in elemento_iteravel:\n",
        "      pass"
      ],
      "metadata": {
        "id": "NPtpbt8vxasF"
      },
      "execution_count": 43,
      "outputs": []
    },
    {
      "cell_type": "code",
      "source": [
        "print(\"Tempo de execução set: \")\n",
        "%time verificar_elemento_in(elementos_set)\n",
        "print(\"=\"*30)\n",
        "\n",
        "print(\"Tempo de execução lista: \")\n",
        "%time verificar_elemento_in(elementos_list)\n",
        "print(\"=\"*30)\n",
        "\n",
        "print(\"Tempo de execução tuplas: \")\n",
        "%time verificar_elemento_in(elementos_tuple)\n",
        "print(\"=\"*30)"
      ],
      "metadata": {
        "colab": {
          "base_uri": "https://localhost:8080/"
        },
        "id": "IJj_5-mfyBW7",
        "outputId": "9fcdef3b-b9ef-469f-99bc-e6fa9cb8f2ef"
      },
      "execution_count": 46,
      "outputs": [
        {
          "output_type": "stream",
          "name": "stdout",
          "text": [
            "Tempo de execução set: \n",
            "CPU times: user 366 µs, sys: 0 ns, total: 366 µs\n",
            "Wall time: 370 µs\n",
            "==============================\n",
            "Tempo de execução lista: \n",
            "CPU times: user 248 ms, sys: 0 ns, total: 248 ms\n",
            "Wall time: 247 ms\n",
            "==============================\n",
            "Tempo de execução tuplas: \n",
            "CPU times: user 248 ms, sys: 0 ns, total: 248 ms\n",
            "Wall time: 248 ms\n",
            "==============================\n"
          ]
        }
      ]
    },
    {
      "cell_type": "markdown",
      "source": [
        "Há um ganho de performance muito bom quando se usa set"
      ],
      "metadata": {
        "id": "jWBntK7Ay02X"
      }
    }
  ]
}